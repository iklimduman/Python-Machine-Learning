{
  "nbformat": 4,
  "nbformat_minor": 0,
  "metadata": {
    "colab": {
      "name": "simple_linear_regression.ipynb",
      "provenance": []
    },
    "kernelspec": {
      "name": "python3",
      "display_name": "Python 3"
    }
  },
  "cells": [
    {
      "cell_type": "markdown",
      "metadata": {
        "id": "l_LulNCC8z96"
      },
      "source": [
        "# Simple Linear Regression"
      ]
    },
    {
      "cell_type": "markdown",
      "metadata": {
        "id": "xpXdowrE9DxW"
      },
      "source": [
        "## Importing the libraries"
      ]
    },
    {
      "cell_type": "code",
      "metadata": {
        "id": "ITNRKsQYuab_"
      },
      "source": [
        "import pandas as pd\r\n",
        "import numpy as np\r\n",
        "import matplotlib.pyplot as plt"
      ],
      "execution_count": 1,
      "outputs": []
    },
    {
      "cell_type": "markdown",
      "metadata": {
        "id": "6JhpWJi59J1p"
      },
      "source": [
        "## Importing the dataset"
      ]
    },
    {
      "cell_type": "code",
      "metadata": {
        "id": "qNGiJnL4uxNt"
      },
      "source": [
        "dataset = pd.read_csv('Salary_Data.csv')\r\n",
        "# this variable describes independent variable of the dataset which is yearsOfExperience\r\n",
        "yearsOfExperience = dataset.iloc[:, :-1].values\r\n",
        "# this variable describes dependent variable of the dataset which is Salary\r\n",
        "Salary = dataset.iloc[:,-1].values"
      ],
      "execution_count": 2,
      "outputs": []
    },
    {
      "cell_type": "code",
      "metadata": {
        "colab": {
          "base_uri": "https://localhost:8080/"
        },
        "id": "iTNCYBlBvp9W",
        "outputId": "4157e5f2-e92a-4dfc-8aa5-c1c9b2a1b2d1"
      },
      "source": [
        "print(yearsOfExperience)"
      ],
      "execution_count": 3,
      "outputs": [
        {
          "output_type": "stream",
          "text": [
            "[[ 1.1]\n",
            " [ 1.3]\n",
            " [ 1.5]\n",
            " [ 2. ]\n",
            " [ 2.2]\n",
            " [ 2.9]\n",
            " [ 3. ]\n",
            " [ 3.2]\n",
            " [ 3.2]\n",
            " [ 3.7]\n",
            " [ 3.9]\n",
            " [ 4. ]\n",
            " [ 4. ]\n",
            " [ 4.1]\n",
            " [ 4.5]\n",
            " [ 4.9]\n",
            " [ 5.1]\n",
            " [ 5.3]\n",
            " [ 5.9]\n",
            " [ 6. ]\n",
            " [ 6.8]\n",
            " [ 7.1]\n",
            " [ 7.9]\n",
            " [ 8.2]\n",
            " [ 8.7]\n",
            " [ 9. ]\n",
            " [ 9.5]\n",
            " [ 9.6]\n",
            " [10.3]\n",
            " [10.5]]\n"
          ],
          "name": "stdout"
        }
      ]
    },
    {
      "cell_type": "code",
      "metadata": {
        "colab": {
          "base_uri": "https://localhost:8080/"
        },
        "id": "8DC7i6aCvtS_",
        "outputId": "a49b7961-64e9-4263-bcb4-776f32147efe"
      },
      "source": [
        "print(Salary)"
      ],
      "execution_count": 4,
      "outputs": [
        {
          "output_type": "stream",
          "text": [
            "[ 39343.  46205.  37731.  43525.  39891.  56642.  60150.  54445.  64445.\n",
            "  57189.  63218.  55794.  56957.  57081.  61111.  67938.  66029.  83088.\n",
            "  81363.  93940.  91738.  98273. 101302. 113812. 109431. 105582. 116969.\n",
            " 112635. 122391. 121872.]\n"
          ],
          "name": "stdout"
        }
      ]
    },
    {
      "cell_type": "markdown",
      "metadata": {
        "id": "AyhQaTwP9RzG"
      },
      "source": [
        "## Splitting the dataset into the Training set and Test set"
      ]
    },
    {
      "cell_type": "code",
      "metadata": {
        "id": "f5MLklYmvnEt"
      },
      "source": [
        "from sklearn.model_selection import train_test_split\r\n",
        "# test size input describes how much of our original data we want to use to test our ML model and rest of data accepted as train data\r\n",
        "yearsOfExperience_train, yearsOfExperience_test, Salary_train, Salary_test = train_test_split( yearsOfExperience,Salary, test_size = 0.2, random_state = 0)\r\n"
      ],
      "execution_count": 5,
      "outputs": []
    },
    {
      "cell_type": "markdown",
      "metadata": {
        "id": "ZijQwFMQ9itx"
      },
      "source": [
        "## Training the Simple Linear Regression model on the Training set"
      ]
    },
    {
      "cell_type": "code",
      "metadata": {
        "colab": {
          "base_uri": "https://localhost:8080/"
        },
        "id": "ARk2RGHywsJX",
        "outputId": "dbd220a9-262e-4a7b-e283-708ee762e7ad"
      },
      "source": [
        "from sklearn.linear_model import LinearRegression\r\n",
        "# this line of code creates a simple linear regression model\r\n",
        "regressor = LinearRegression()\r\n",
        "regressor.fit(yearsOfExperience_train,Salary_train)"
      ],
      "execution_count": 6,
      "outputs": [
        {
          "output_type": "execute_result",
          "data": {
            "text/plain": [
              "LinearRegression(copy_X=True, fit_intercept=True, n_jobs=None, normalize=False)"
            ]
          },
          "metadata": {
            "tags": []
          },
          "execution_count": 6
        }
      ]
    },
    {
      "cell_type": "markdown",
      "metadata": {
        "id": "wa2T1Lq89o5H"
      },
      "source": [
        "## Predicting the Test set results"
      ]
    },
    {
      "cell_type": "code",
      "metadata": {
        "id": "7NDxZs5ZyJvi"
      },
      "source": [
        "salary_pred = regressor.predict(yearsOfExperience_test)\r\n"
      ],
      "execution_count": 12,
      "outputs": []
    },
    {
      "cell_type": "markdown",
      "metadata": {
        "id": "-zSoMZ-P9v8t"
      },
      "source": [
        "## Visualising the Training set results"
      ]
    },
    {
      "cell_type": "code",
      "metadata": {
        "colab": {
          "base_uri": "https://localhost:8080/",
          "height": 295
        },
        "id": "Ebjcc4Ub9OY1",
        "outputId": "1b601fd3-7f29-4333-b2b5-8fce82f5dd78"
      },
      "source": [
        "plt.scatter(yearsOfExperience_train,Salary_train, color='red')\r\n",
        "# this line of code is to create blue line which has years of experince data on x-axis and predicted salary data on y-axis\r\n",
        "plt.plot(yearsOfExperience_train,regressor.predict(yearsOfExperience_train), color='blue')\r\n",
        "plt.title(\"Salary vs Experince\")\r\n",
        "plt.xlabel(\"Years of Experience\")\r\n",
        "plt.ylabel(\"Salary\")\r\n",
        "plt.grid()"
      ],
      "execution_count": 22,
      "outputs": [
        {
          "output_type": "display_data",
          "data": {
            "image/png": "[encoded data removed]",
            "text/plain": [
              "<Figure size 432x288 with 1 Axes>"
            ]
          },
          "metadata": {
            "tags": [],
            "needs_background": "light"
          }
        }
      ]
    },
    {
      "cell_type": "markdown",
      "metadata": {
        "id": "EUX1Vhsv97ZT"
      },
      "source": [
        "## Visualising the Test set results"
      ]
    },
    {
      "cell_type": "code",
      "metadata": {
        "colab": {
          "base_uri": "https://localhost:8080/",
          "height": 295
        },
        "id": "ZHSU9yBh9vLU",
        "outputId": "364c6d4b-db4e-4e68-b9d7-34e8e5603505"
      },
      "source": [
        "# this graph shows the difference between the models between training set and test set\r\n",
        "plt.scatter(yearsOfExperience_test,Salary_test, color='red')\r\n",
        "#this line of code is to create blue line which has years of experince data on x-axis and predicted salary data on y-axis\r\n",
        "# regression line created from training set and because of this graph is to show us difference between\r\n",
        "# training set and test set we dont need to calculate another predict line from test set.\r\n",
        "plt.plot(yearsOfExperience_train,regressor.predict(yearsOfExperience_train), color='blue')\r\n",
        "plt.title(\"Salary vs Experince\")\r\n",
        "plt.xlabel(\"Years of Experience\")\r\n",
        "plt.ylabel(\"Salary\")\r\n",
        "plt.grid()\r\n",
        "\r\n",
        "# NOTE : We have such a good regression line here because we have linear relationship in the dataset."
      ],
      "execution_count": 28,
      "outputs": [
        {
          "output_type": "display_data",
          "data": {
            "image/png": "[encoded data removed]",
            "text/plain": [
              "<Figure size 432x288 with 1 Axes>"
            ]
          },
          "metadata": {
            "tags": [],
            "needs_background": "light"
          }
        }
      ]
    }
  ]
}